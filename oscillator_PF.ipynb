{
 "cells": [
  {
   "cell_type": "code",
   "execution_count": 6,
   "metadata": {},
   "outputs": [],
   "source": [
    "import numpy as np\n",
    "import matplotlib.pyplot as plt\n",
    "from DAmethod.particle_filter import ParticleFilter\n",
    "from dynamicalsystems.anharmonic_oscillator import NonLinearOscillatorModel\n",
    "%matplotlib inline"
   ]
  },
  {
   "cell_type": "code",
   "execution_count": 8,
   "metadata": {},
   "outputs": [],
   "source": [
    "H = np.atleast_2d([0, 1])\n",
    "R = np.atleast_2d([49])\n",
    "period_assim = 50\n",
    "Nparticles = 500\n",
    "assimilation_steps=10\n",
    "\n",
    "\n",
    "PF = ParticleFilter(state_dimension=2, Nparticles=Nparticles, R=R)\n",
    "PF.H = H\n",
    "PF.set_forwardmodel(\n",
    "    lambda x: NonLinearOscillatorModel.integrate(0, x, period_assim)[1][:, -1]\n",
    ")\n",
    "truth = NonLinearOscillatorModel()\n",
    "truth.set_initial_state(0, [0, 1])\n",
    "\n",
    "def generate_observations(i):\n",
    "    truth.forward(period_assim)\n",
    "    y = truth.state_vector[:, -1] + np.random.randn(1) * np.sqrt(float(R))\n",
    "    return truth.t[-1], y\n",
    "PF.generate_particles(\n",
    "    prior_mean=np.array([0, 1]), prior_cov=np.array([[2, 0], [0, 2]])\n",
    ")"
   ]
  },
  {
   "cell_type": "code",
   "execution_count": 9,
   "metadata": {},
   "outputs": [
    {
     "name": "stdout",
     "output_type": "stream",
     "text": [
      "Iter ESS                        RMS\n",
      "0    35.42                  1024.79 Resampling\n",
      "1    66.84                383610.35 Resampling\n",
      "2    309.45              5070283.85\n",
      "3    186.71               766369.20 Resampling\n",
      "4    128.24                19497.94 Resampling\n",
      "5    42.47                 54673.65 Resampling\n",
      "6    106.51              1706619.43 Resampling\n",
      "7    158.89              3758474.59 Resampling\n",
      "8    33.11                219333.36 Resampling\n",
      "9    66.67                 95735.59 Resampling\n"
     ]
    }
   ],
   "source": [
    "\n",
    "dPF = PF.run(assimilation_steps, generate_observations, full_obs=True, ESS_lim=None)\n"
   ]
  },
  {
   "cell_type": "code",
   "execution_count": 10,
   "metadata": {},
   "outputs": [
    {
     "data": {
      "image/png": "[encoded data removed]",
      "text/plain": [
       "<Figure size 432x288 with 1 Axes>"
      ]
     },
     "metadata": {
      "needs_background": "light"
     },
     "output_type": "display_data"
    }
   ],
   "source": [
    "est_ = np.array(dPF[\"estimates\"])[:, 0]\n",
    "obs_ = np.array(dPF[\"observations\"])[:, 0]\n",
    "wei_ = np.array(dPF[\"weights\"])\n",
    "for i in range(assimilation_steps):\n",
    "    plt.scatter(\n",
    "        period_assim * (i + 1) * np.ones(Nparticles),\n",
    "        np.asarray(dPF[\"particles\"])[i, 1, :],\n",
    "        marker=\"o\",\n",
    "        c=\"cyan\",\n",
    "        s=300 * wei_[i, :],\n",
    "    )\n",
    "v_ = [\n",
    "    PF.weighted_moments(\n",
    "        np.array(dPF[\"particles\"])[i, :, :],\n",
    "        np.array(dPF[\"weights\"])[i, :],\n",
    "    )[1]\n",
    "    for i in range(assimilation_steps)\n",
    "]\n",
    "std = np.sqrt(np.array(v_)[:, 1])\n",
    "plt.fill_between(\n",
    "    dPF[\"time\"],\n",
    "    np.squeeze(PF.H(est_.T) + 2 * std),\n",
    "    np.squeeze(PF.H(est_.T) - 2 * std),\n",
    "    color=\"gray\",\n",
    "    alpha=0.3,\n",
    ")\n",
    "plt.scatter(dPF[\"time\"], obs_, marker=\"o\", c=\"red\", s=20)\n",
    "plt.scatter(dPF[\"time\"], PF.H(est_.T), marker=\"x\", color=\"blue\", s=20)\n",
    "plt.plot(truth.state_vector[1, :])\n",
    "plt.show()\n"
   ]
  }
 ],
 "metadata": {
  "interpreter": {
   "hash": "79fb65622bc19ffdac9a0ce167793125ef32de1092a86102087c51c929c49216"
  },
  "kernelspec": {
   "display_name": "Python 3.9.9 64-bit",
   "language": "python",
   "name": "python3"
  },
  "language_info": {
   "codemirror_mode": {
    "name": "ipython",
    "version": 3
   },
   "file_extension": ".py",
   "mimetype": "text/x-python",
   "name": "python",
   "nbconvert_exporter": "python",
   "pygments_lexer": "ipython3",
   "version": "3.10.1"
  },
  "orig_nbformat": 4
 },
 "nbformat": 4,
 "nbformat_minor": 2
}
